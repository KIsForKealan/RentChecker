{
 "cells": [
  {
   "cell_type": "code",
   "execution_count": 65,
   "id": "6bcc818b",
   "metadata": {},
   "outputs": [],
   "source": [
    "import requests\n",
    "import time"
   ]
  },
  {
   "cell_type": "code",
   "execution_count": 66,
   "id": "34ef3199",
   "metadata": {},
   "outputs": [],
   "source": [
    "def updateFunc():    \n",
    "    result = requests.get(\"https://www.pararius.com/apartments/amsterdam\")\n",
    "    content = result.text\n",
    "    uniqueStart = content.find('pagination__summary')\n",
    "    removedIntro = content[uniqueStart:]\n",
    "    uniqueEnd = removedIntro.find('results')\n",
    "    removedEnd = removedIntro[:uniqueEnd]\n",
    "    lastFilter = removedEnd.find('of ')\n",
    "    total = removedEnd.split(\"of \",1)[1]\n",
    "    print(\"Current Amsterdam apartments on Pararius: \"+total)"
   ]
  },
  {
   "cell_type": "code",
   "execution_count": null,
   "id": "778d0e2a",
   "metadata": {},
   "outputs": [
    {
     "name": "stdout",
     "output_type": "stream",
     "text": [
      "Current Amsterdam apartments on Pararius: 563 \n",
      "Current Amsterdam apartments on Pararius: 563 \n",
      "Current Amsterdam apartments on Pararius: 563 \n",
      "Current Amsterdam apartments on Pararius: 563 \n"
     ]
    }
   ],
   "source": [
    "while True:\n",
    "    updateFunc()\n",
    "    time.sleep(1)"
   ]
  },
  {
   "cell_type": "code",
   "execution_count": null,
   "id": "7ae8bde4",
   "metadata": {},
   "outputs": [],
   "source": []
  }
 ],
 "metadata": {
  "kernelspec": {
   "display_name": "Python 3",
   "language": "python",
   "name": "python3"
  },
  "language_info": {
   "codemirror_mode": {
    "name": "ipython",
    "version": 3
   },
   "file_extension": ".py",
   "mimetype": "text/x-python",
   "name": "python",
   "nbconvert_exporter": "python",
   "pygments_lexer": "ipython3",
   "version": "3.8.8"
  }
 },
 "nbformat": 4,
 "nbformat_minor": 5
}
